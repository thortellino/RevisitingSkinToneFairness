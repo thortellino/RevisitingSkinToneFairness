{
 "cells": [
  {
   "cell_type": "markdown",
   "id": "ea1b6d41-071c-458a-b85f-e71af8100a35",
   "metadata": {},
   "source": [
    "# Paper Plots: Results\n",
    "This notebook will use the tabular predictions in the predictions subfolder to evaluate the results."
   ]
  },
  {
   "cell_type": "code",
   "execution_count": 1,
   "id": "ae699200-bbd6-43e8-9d10-4e64645db9c7",
   "metadata": {},
   "outputs": [],
   "source": [
    "import matplotlib.pyplot as plt\n",
    "from sklearn.metrics import balanced_accuracy_score as cat_acc\n",
    "#from sklearn.metrics import accuracy_score as cat_acc\n",
    "\n",
    "from sklearn.metrics import classification_report as clf_rep\n",
    "import numpy as np\n",
    "import pandas as pd\n",
    "\n",
    "TRAINING_PATH = \"./data/ISIC2018/ISIC2018_Task3_Training_Input/\"\n",
    "label_path = f\"{TRAINING_PATH}metadata.csv\"\n",
    "PREDICTION_PATH = \"./predictions/\"\n",
    "df_all = pd.read_csv(label_path)\n",
    "df_Bevan = pd.read_csv(\"Bevan_corrected.csv\")\n",
    "df_all = pd.merge(df_all,df_Bevan,left_on=\"image\",right_on=\"image\")"
   ]
  },
  {
   "cell_type": "code",
   "execution_count": 2,
   "id": "6b476763-c045-4a10-840e-d475ab42fef0",
   "metadata": {},
   "outputs": [
    {
     "data": {
      "text/html": [
       "<div>\n",
       "<style scoped>\n",
       "    .dataframe tbody tr th:only-of-type {\n",
       "        vertical-align: middle;\n",
       "    }\n",
       "\n",
       "    .dataframe tbody tr th {\n",
       "        vertical-align: top;\n",
       "    }\n",
       "\n",
       "    .dataframe thead th {\n",
       "        text-align: right;\n",
       "    }\n",
       "</style>\n",
       "<table border=\"1\" class=\"dataframe\">\n",
       "  <thead>\n",
       "    <tr style=\"text-align: right;\">\n",
       "      <th></th>\n",
       "      <th>image</th>\n",
       "      <th>lesion</th>\n",
       "      <th>estimated_ita</th>\n",
       "      <th>fitzpatrick_Bevan</th>\n",
       "      <th>fitzpatrick_corrected</th>\n",
       "    </tr>\n",
       "  </thead>\n",
       "  <tbody>\n",
       "    <tr>\n",
       "      <th>0</th>\n",
       "      <td>ISIC_0024306.jpg</td>\n",
       "      <td>NV</td>\n",
       "      <td>40.059917</td>\n",
       "      <td>1</td>\n",
       "      <td>1</td>\n",
       "    </tr>\n",
       "    <tr>\n",
       "      <th>1</th>\n",
       "      <td>ISIC_0024307.jpg</td>\n",
       "      <td>NV</td>\n",
       "      <td>40.497098</td>\n",
       "      <td>1</td>\n",
       "      <td>1</td>\n",
       "    </tr>\n",
       "    <tr>\n",
       "      <th>2</th>\n",
       "      <td>ISIC_0024308.jpg</td>\n",
       "      <td>NV</td>\n",
       "      <td>46.131533</td>\n",
       "      <td>1</td>\n",
       "      <td>1</td>\n",
       "    </tr>\n",
       "    <tr>\n",
       "      <th>3</th>\n",
       "      <td>ISIC_0024309.jpg</td>\n",
       "      <td>NV</td>\n",
       "      <td>36.834707</td>\n",
       "      <td>1</td>\n",
       "      <td>1</td>\n",
       "    </tr>\n",
       "    <tr>\n",
       "      <th>4</th>\n",
       "      <td>ISIC_0024311.jpg</td>\n",
       "      <td>NV</td>\n",
       "      <td>45.215332</td>\n",
       "      <td>1</td>\n",
       "      <td>1</td>\n",
       "    </tr>\n",
       "  </tbody>\n",
       "</table>\n",
       "</div>"
      ],
      "text/plain": [
       "              image lesion  estimated_ita  fitzpatrick_Bevan  \\\n",
       "0  ISIC_0024306.jpg     NV      40.059917                  1   \n",
       "1  ISIC_0024307.jpg     NV      40.497098                  1   \n",
       "2  ISIC_0024308.jpg     NV      46.131533                  1   \n",
       "3  ISIC_0024309.jpg     NV      36.834707                  1   \n",
       "4  ISIC_0024311.jpg     NV      45.215332                  1   \n",
       "\n",
       "   fitzpatrick_corrected  \n",
       "0                      1  \n",
       "1                      1  \n",
       "2                      1  \n",
       "3                      1  \n",
       "4                      1  "
      ]
     },
     "execution_count": 2,
     "metadata": {},
     "output_type": "execute_result"
    }
   ],
   "source": [
    "df_all.head()"
   ]
  },
  {
   "cell_type": "code",
   "execution_count": 3,
   "id": "49dd4d1b-e010-421b-b6e8-8fb8cecc7925",
   "metadata": {},
   "outputs": [],
   "source": [
    "experiments = [\"01DataShift00Compare41\",\"01DataShift02Compare41\",\"01DataShift04Compare41\",\"01DataShift01Threshold41\",\"01DataShift03Threshold41\",\"01DataShift05Threshold41\",\"03DataShift01RP\",\"03DataShift02RP\",\"03DataShift03RP\",\"03DataShift04RP2\",\"03DataShift05RP2\",\"03DataShift06RP2\"]\n",
    "Controls = experiments[0:3]\n",
    "IBM = experiments[3:6]\n",
    "RP = experiments[6:9]\n",
    "RP2 = experiments[9:]\n",
    "Setups = [Controls,IBM,RP,RP2]"
   ]
  },
  {
   "cell_type": "markdown",
   "id": "7d1eb21f-5205-4784-8d17-2d234d8b27cb",
   "metadata": {
    "tags": []
   },
   "source": [
    "### Cat acc on baseline - IBM, RP, RP2"
   ]
  },
  {
   "cell_type": "code",
   "execution_count": null,
   "id": "f6518d48-34f5-467f-a941-08f416e8c42b",
   "metadata": {},
   "outputs": [],
   "source": [
    "Cat_Accs_skin_tone = np.zeros((6,3,3)) # skin types (6) x runs x ITA label algorithms ## Undefined ITA were removed!!!\n",
    "ITA_thresholds = [180,55,41,28,19,10,-180]\n",
    "for j in range(len(Controls)):\n",
    "    exp_name = Controls[j]\n",
    "    df_pred = pd.read_csv(f\"{PREDICTION_PATH}predictions_{exp_name}.csv\")\n",
    "    df_merged = pd.merge(df_all, df_pred, left_on='image', right_on='image')\n",
    "    # cat_acc\n",
    "    for i in range(len(ITA_thresholds)-1):\n",
    "        df_filtered = df_merged[df_merged['estimated_ita'] > ITA_thresholds[i+1]]\n",
    "        df_filtered = df_filtered[df_filtered['estimated_ita'] <= ITA_thresholds[i]]\n",
    "        y_pred = df_filtered[\"predicted_lesion\"].values\n",
    "        y_true = df_filtered[\"lesion\"].values\n",
    "        Cat_Accs_skin_tone[i,j,0] = cat_acc(y_true,y_pred)"
   ]
  },
  {
   "cell_type": "code",
   "execution_count": null,
   "id": "d00b5ecb-9c51-4276-8c37-a3fff3a1c8a1",
   "metadata": {},
   "outputs": [],
   "source": [
    "Fitzpatrick_types = [1,2,3,4,5,6]\n",
    "for j in range(len(Controls)):\n",
    "    exp_name = Controls[j]\n",
    "    df_pred = pd.read_csv(f\"{PREDICTION_PATH}predictions_{exp_name}.csv\")\n",
    "    df_merged = pd.merge(df_all, df_pred, left_on='image', right_on='image')\n",
    "    for i in range(len(Fitzpatrick_types)):\n",
    "        df_filtered = df_merged[df_merged['fitzpatrick_Bevan'] == Fitzpatrick_types[i]]\n",
    "        #df_filtered = df_filtered[df_filtered['estimated_ita'] <= ITA_thresholds[i]]\n",
    "        y_pred = df_filtered[\"predicted_lesion\"].values\n",
    "        y_true = df_filtered[\"lesion\"].values\n",
    "        Cat_Accs_skin_tone[i,j,1] = cat_acc(y_true,y_pred)"
   ]
  },
  {
   "cell_type": "code",
   "execution_count": null,
   "id": "bf0cba9d-8ba1-498d-bf2f-2d3a15fdd1ea",
   "metadata": {},
   "outputs": [],
   "source": [
    "for j in range(len(Controls)):\n",
    "    exp_name = Controls[j]\n",
    "    df_pred = pd.read_csv(f\"{PREDICTION_PATH}predictions_{exp_name}.csv\")\n",
    "    df_merged = pd.merge(df_all, df_pred, left_on='image', right_on='image')\n",
    "    for i in range(len(Fitzpatrick_types)):\n",
    "        df_filtered = df_merged[df_merged['fitzpatrick_corrected'] == Fitzpatrick_types[i]]\n",
    "        #df_filtered = df_filtered[df_filtered['estimated_ita'] <= ITA_thresholds[i]]\n",
    "        y_pred = df_filtered[\"predicted_lesion\"].values\n",
    "        y_true = df_filtered[\"lesion\"].values\n",
    "        Cat_Accs_skin_tone[i,j,2] = cat_acc(y_true,y_pred)"
   ]
  },
  {
   "cell_type": "code",
   "execution_count": 14,
   "id": "83d0fdb9-dfb6-4a5a-8ae5-1c8ccc775d90",
   "metadata": {},
   "outputs": [
    {
     "name": "stdout",
     "output_type": "stream",
     "text": [
      "[[0.74584378 0.68593231 0.68614078]\n",
      " [0.69016407 0.82849645 0.8241392 ]\n",
      " [0.66186467 0.78027068 0.89252972]\n",
      " [0.53981481 0.80917874 0.92384454]\n",
      " [0.5        0.84673721 0.88888889]\n",
      " [1.         0.67629102 1.        ]]\n"
     ]
    },
    {
     "data": {
      "image/png": "[encoded data removed]",
      "text/plain": [
       "<Figure size 900x300 with 3 Axes>"
      ]
     },
     "metadata": {},
     "output_type": "display_data"
    }
   ],
   "source": [
    "stats_acc_skin_tone = np.zeros((6,2,3)) # 7 lesions, (mean,std), 3 ITA labels\n",
    "stats_acc_skin_tone[:,0,:] = np.mean(Cat_Accs_skin_tone,axis=1)\n",
    "stats_acc_skin_tone[:,1,:] = np.std(Cat_Accs_skin_tone,axis=1)\n",
    "print(stats_acc_skin_tone[:,0,:])\n",
    "skin_colors = [\"#d5b1a9\",\"#c59d8b\",\"#b59079\",\"#ae866c\",\"#9f775c\",\"#6d4b3a\"]\n",
    "\n",
    "\n",
    "# New plot for the presentation\n",
    "#plt.plot([\"Control\",\"Shift\",\"SinGAN\",\"Oversampled\"],stats_acc[:,0],\"o\")\n",
    "\n",
    "ITA_algorithms = [\"DLHSS\",\"RP\",\"RP2\"]\n",
    "fig, ax = plt.subplots(1,3,figsize=(9,3),sharey=True,sharex=True,constrained_layout=True)\n",
    "for g in range(stats_acc_skin_tone.shape[2]):\n",
    "    ax[g].bar([\"1\",\"2\",\"3\",\"4\",\"5\",\"6\"], stats_acc_skin_tone[:,0,g],color=skin_colors)\n",
    "    ax[g].errorbar([\"1\",\"2\",\"3\",\"4\",\"5\",\"6\"], stats_acc_skin_tone[:,0,g], yerr=stats_acc_skin_tone[:,1,g], fmt=\"o\",markersize=0,color=\"k\",capsize=10)\n",
    "    ax[g].set_title(ITA_algorithms[g])\n",
    "ax[0].set_ylabel(\"Balanced accuracy\")\n",
    "fig.supxlabel(\"Skin Type\")\n",
    "plt.savefig(\"Acc_skintone.eps\",format='eps',dpi=1200)\n",
    "plt.show()"
   ]
  },
  {
   "cell_type": "markdown",
   "id": "ea4fd698-13c9-4c69-8f38-cf7d6133a722",
   "metadata": {
    "tags": []
   },
   "source": [
    "## Different metrics for data shift"
   ]
  },
  {
   "cell_type": "code",
   "execution_count": null,
   "id": "1ec07a4a-e05f-4613-aa1d-859f1d6fa1fb",
   "metadata": {},
   "outputs": [],
   "source": [
    "from sklearn.metrics import precision_recall_fscore_support\n",
    "acc_prec_rec_f1 = np.zeros((4,3,4)) # 4 experimental setups x 3 repetitions x 4 metrics\n",
    "for i in range(len(Setups)):\n",
    "    setup = Setups[i]\n",
    "    for j in range(len(setup)):\n",
    "        exp_name = setup[j]\n",
    "        df_pred = pd.read_csv(f\"{PREDICTION_PATH}predictions_{exp_name}.csv\")\n",
    "        df_merged = pd.merge(df_all, df_pred, left_on='image', right_on='image')\n",
    "        # cat_acc\n",
    "        y_pred = df_merged[\"predicted_lesion\"].values\n",
    "        y_true = df_merged[\"lesion\"].values\n",
    "        acc_prec_rec_f1[i,j,0] = cat_acc(y_true,y_pred)\n",
    "        acc_prec_rec_f1[i,j,1:] = precision_recall_fscore_support(y_true, y_pred,average=\"weighted\")[:3]\n",
    "    print(len(y_pred))\n",
    "with np.printoptions(precision=3):\n",
    "    print(np.mean(acc_prec_rec_f1,axis=1))\n",
    "    print(np.std(acc_prec_rec_f1,axis=1))"
   ]
  },
  {
   "cell_type": "markdown",
   "id": "a171e94a-707e-4c1f-9b41-d62c44a1d88e",
   "metadata": {},
   "source": [
    "The cell above will also print the size of the test sets. It becomes obvious that a RP2-based data shift experiment, defining all RP2-based dark skin images as the test set, does not make sense, as the lesion diversity would not be sufficient."
   ]
  },
  {
   "cell_type": "code",
   "execution_count": 158,
   "id": "2ef8973a-3619-45e6-b405-941efe3b0050",
   "metadata": {},
   "outputs": [
    {
     "data": {
      "image/png": "[encoded data removed]",
      "text/plain": [
       "<Figure size 800x200 with 4 Axes>"
      ]
     },
     "metadata": {},
     "output_type": "display_data"
    }
   ],
   "source": [
    "fig, ax = plt.subplots(1,4,figsize=(8,2),sharey=True)\n",
    "for k in range(4):\n",
    "    ax[k].errorbar([\"Baseline\",\"DLHSS\",\"RP\",\"RP2\"][0], np.mean(acc_prec_rec_f1,axis=1)[0,k], yerr=np.std(acc_prec_rec_f1,axis=1)[0,k], color=[\"#d37295\",\"#4e79a7\",\"#4e79a7\",\"4e79a7\"][0],marker='o',markersize=2,capsize=5, markeredgewidth=2, linestyle='')\n",
    "    ax[k].errorbar([\"Baseline\",\"DLHSS\",\"RP\",\"RP2\"][1:3], np.mean(acc_prec_rec_f1,axis=1)[1:3,k], yerr=np.std(acc_prec_rec_f1,axis=1)[1:3,k], color=[\"#d37295\",\"#4e79a7\",\"#4e79a7\",\"4e79a7\"][1],marker='o',markersize=2,capsize=5, markeredgewidth=2, linestyle='')\n",
    "    ax[k].set_title([\"Balanced Accuracy\",\"Weighted Precision\",\"Weighted Recall\",\"Weighted F1\"][k])\n",
    "    #plt.show()\n",
    "    #plt.errorbar([\"Control\",\"Data Shift\",\"SinGAN\",\"Oversampled\"], stats_acc[:,0], yerr=stats_acc[:,1], fmt=\"o\",color=[\"#4e79a7\",\"#4e79a7\",\"#4e79a7\"])\n",
    "plt.tight_layout()\n",
    "plt.savefig(\"DataShiftMetrics.eps\",format='eps',dpi=1200)\n",
    "plt.show()\n"
   ]
  }
 ],
 "metadata": {
  "kernelspec": {
   "display_name": "Python 3 (ipykernel)",
   "language": "python",
   "name": "python3"
  },
  "language_info": {
   "codemirror_mode": {
    "name": "ipython",
    "version": 3
   },
   "file_extension": ".py",
   "mimetype": "text/x-python",
   "name": "python",
   "nbconvert_exporter": "python",
   "pygments_lexer": "ipython3",
   "version": "3.9.16"
  }
 },
 "nbformat": 4,
 "nbformat_minor": 5
}
